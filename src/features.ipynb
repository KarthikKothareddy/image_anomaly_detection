{
 "cells": [
  {
   "cell_type": "code",
   "execution_count": 2,
   "metadata": {},
   "outputs": [],
   "source": [
    "from imutils import paths\n",
    "import numpy as np\n",
    "import cv2"
   ]
  },
  {
   "cell_type": "code",
   "execution_count": 8,
   "metadata": {},
   "outputs": [],
   "source": [
    "def quantify_image(image, bins=(4, 6, 3)):\n",
    "    # compute a 3D color histogram over the image and normalize it\n",
    "    hist = cv2.calcHist(\n",
    "        [image], \n",
    "        [0, 1, 2], \n",
    "        None, \n",
    "        bins,\n",
    "        [0, 180, 0, 256, 0, 256]\n",
    "    )\n",
    "    # hist = cv2.normalize(hist, hist).flatten()\n",
    "    # return the histogram\n",
    "    return hist"
   ]
  },
  {
   "cell_type": "code",
   "execution_count": 9,
   "metadata": {},
   "outputs": [],
   "source": [
    "img = cv2.imread(\"../examples/forest_cdmc290.jpg\")"
   ]
  },
  {
   "cell_type": "code",
   "execution_count": 10,
   "metadata": {},
   "outputs": [],
   "source": [
    "hist = quantify_image(img)"
   ]
  },
  {
   "cell_type": "code",
   "execution_count": 11,
   "metadata": {},
   "outputs": [
    {
     "data": {
      "text/plain": [
       "array([[[9.6920e+03, 0.0000e+00, 0.0000e+00],\n",
       "        [1.0338e+04, 0.0000e+00, 0.0000e+00],\n",
       "        [3.2180e+03, 1.0000e+00, 0.0000e+00],\n",
       "        [6.0000e+00, 0.0000e+00, 0.0000e+00],\n",
       "        [0.0000e+00, 0.0000e+00, 0.0000e+00],\n",
       "        [0.0000e+00, 0.0000e+00, 0.0000e+00]],\n",
       "\n",
       "       [[3.0000e+00, 0.0000e+00, 0.0000e+00],\n",
       "        [3.6810e+03, 4.0000e+00, 0.0000e+00],\n",
       "        [1.8210e+04, 2.6230e+03, 0.0000e+00],\n",
       "        [3.9080e+03, 3.9860e+03, 0.0000e+00],\n",
       "        [0.0000e+00, 3.3000e+01, 0.0000e+00],\n",
       "        [0.0000e+00, 1.0000e+00, 0.0000e+00]],\n",
       "\n",
       "       [[0.0000e+00, 0.0000e+00, 0.0000e+00],\n",
       "        [0.0000e+00, 0.0000e+00, 0.0000e+00],\n",
       "        [2.9000e+01, 1.2430e+03, 0.0000e+00],\n",
       "        [1.9000e+01, 6.0050e+03, 0.0000e+00],\n",
       "        [0.0000e+00, 1.2170e+03, 3.0000e+00],\n",
       "        [0.0000e+00, 5.0000e+00, 0.0000e+00]],\n",
       "\n",
       "       [[0.0000e+00, 0.0000e+00, 0.0000e+00],\n",
       "        [0.0000e+00, 0.0000e+00, 0.0000e+00],\n",
       "        [0.0000e+00, 0.0000e+00, 0.0000e+00],\n",
       "        [0.0000e+00, 1.5200e+02, 2.0000e+00],\n",
       "        [0.0000e+00, 7.2100e+02, 1.3500e+02],\n",
       "        [0.0000e+00, 3.8000e+01, 8.3000e+01]]], dtype=float32)"
      ]
     },
     "execution_count": 11,
     "metadata": {},
     "output_type": "execute_result"
    }
   ],
   "source": [
    "hist"
   ]
  },
  {
   "cell_type": "code",
   "execution_count": 16,
   "metadata": {},
   "outputs": [
    {
     "data": {
      "text/plain": [
       "(6, 3)"
      ]
     },
     "execution_count": 16,
     "metadata": {},
     "output_type": "execute_result"
    }
   ],
   "source": [
    "hist.shape\n",
    "hist[0].shape\n",
    "#hist[1].shape\n",
    "#hist[2].shape"
   ]
  },
  {
   "cell_type": "code",
   "execution_count": null,
   "metadata": {},
   "outputs": [],
   "source": [
    "def load_data(path, bins):\n",
    "    # grab the paths to all images in our dataset directory, then\n",
    "    # initialize our lists of images\n",
    "    imagePaths = list(paths.list_images(path))\n",
    "    data = []\n",
    "    # loop over the image paths\n",
    "    for imagePath in imagePaths:\n",
    "        # load the image and convert it to the HSV color space\n",
    "        image = cv2.imread(imagePath)\n",
    "        image = cv2.cvtColor(image, cv2.COLOR_BGR2HSV)\n",
    "        # quantify the image and update the data list\n",
    "        features = quantify_image(image, bins)\n",
    "        data.append(features)\n",
    "    # return our data list as a NumPy array\n",
    "    return np.array(data)"
   ]
  },
  {
   "cell_type": "code",
   "execution_count": null,
   "metadata": {},
   "outputs": [],
   "source": []
  },
  {
   "cell_type": "code",
   "execution_count": null,
   "metadata": {},
   "outputs": [],
   "source": []
  }
 ],
 "metadata": {
  "kernelspec": {
   "display_name": "Python 3",
   "language": "python",
   "name": "python3"
  },
  "language_info": {
   "codemirror_mode": {
    "name": "ipython",
    "version": 3
   },
   "file_extension": ".py",
   "mimetype": "text/x-python",
   "name": "python",
   "nbconvert_exporter": "python",
   "pygments_lexer": "ipython3",
   "version": "3.6.8"
  }
 },
 "nbformat": 4,
 "nbformat_minor": 2
}

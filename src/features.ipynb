{
 "cells": [
  {
   "cell_type": "code",
   "execution_count": 2,
   "metadata": {},
   "outputs": [],
   "source": [
    "from imutils import paths\n",
    "import numpy as np\n",
    "import cv2"
   ]
  },
  {
   "cell_type": "code",
   "execution_count": 3,
   "metadata": {},
   "outputs": [],
   "source": [
    "def quantify_image(image, bins=(4, 6, 3)):\n",
    "    # compute a 3D color histogram over the image and normalize it\n",
    "    hist = cv2.calcHist(\n",
    "        [image], \n",
    "        [0, 1, 2], \n",
    "        None, \n",
    "        bins,\n",
    "        [0, 180, 0, 256, 0, 256]\n",
    "    )\n",
    "    hist = cv2.normalize(hist, hist).flatten()\n",
    "    # return the histogram\n",
    "    return hist"
   ]
  },
  {
   "cell_type": "code",
   "execution_count": 4,
   "metadata": {},
   "outputs": [],
   "source": [
    "img = cv2.imread(\"../examples/forest_cdmc290.jpg\")"
   ]
  },
  {
   "cell_type": "code",
   "execution_count": 5,
   "metadata": {},
   "outputs": [],
   "source": [
    "hist = quantify_image(img)"
   ]
  },
  {
   "cell_type": "code",
   "execution_count": 6,
   "metadata": {},
   "outputs": [
    {
     "data": {
      "text/plain": [
       "array([3.8491324e-01, 0.0000000e+00, 0.0000000e+00, 4.1056880e-01,\n",
       "       0.0000000e+00, 0.0000000e+00, 1.2780136e-01, 3.9714530e-05,\n",
       "       0.0000000e+00, 2.3828718e-04, 0.0000000e+00, 0.0000000e+00,\n",
       "       0.0000000e+00, 0.0000000e+00, 0.0000000e+00, 0.0000000e+00,\n",
       "       0.0000000e+00, 0.0000000e+00, 1.1914359e-04, 0.0000000e+00,\n",
       "       0.0000000e+00, 1.4618918e-01, 1.5885812e-04, 0.0000000e+00,\n",
       "       7.2320157e-01, 1.0417122e-01, 0.0000000e+00, 1.5520439e-01,\n",
       "       1.5830211e-01, 0.0000000e+00, 0.0000000e+00, 1.3105795e-03,\n",
       "       0.0000000e+00, 0.0000000e+00, 3.9714530e-05, 0.0000000e+00,\n",
       "       0.0000000e+00, 0.0000000e+00, 0.0000000e+00, 0.0000000e+00,\n",
       "       0.0000000e+00, 0.0000000e+00, 1.1517213e-03, 4.9365163e-02,\n",
       "       0.0000000e+00, 7.5457606e-04, 2.3848575e-01, 0.0000000e+00,\n",
       "       0.0000000e+00, 4.8332583e-02, 1.1914359e-04, 0.0000000e+00,\n",
       "       1.9857266e-04, 0.0000000e+00, 0.0000000e+00, 0.0000000e+00,\n",
       "       0.0000000e+00, 0.0000000e+00, 0.0000000e+00, 0.0000000e+00,\n",
       "       0.0000000e+00, 0.0000000e+00, 0.0000000e+00, 0.0000000e+00,\n",
       "       6.0366085e-03, 7.9429061e-05, 0.0000000e+00, 2.8634176e-02,\n",
       "       5.3614615e-03, 0.0000000e+00, 1.5091521e-03, 3.2963061e-03],\n",
       "      dtype=float32)"
      ]
     },
     "execution_count": 6,
     "metadata": {},
     "output_type": "execute_result"
    }
   ],
   "source": [
    "hist"
   ]
  },
  {
   "cell_type": "code",
   "execution_count": null,
   "metadata": {},
   "outputs": [],
   "source": [
    "def load_data(path, bins):\n",
    "    # grab the paths to all images in our dataset directory, then\n",
    "    # initialize our lists of images\n",
    "    imagePaths = list(paths.list_images(path))\n",
    "    data = []\n",
    "\n",
    "    # loop over the image paths\n",
    "    for imagePath in imagePaths:\n",
    "        # load the image and convert it to the HSV color space\n",
    "        image = cv2.imread(imagePath)\n",
    "        image = cv2.cvtColor(image, cv2.COLOR_BGR2HSV)\n",
    "\n",
    "        # quantify the image and update the data list\n",
    "        features = quantify_image(image, bins)\n",
    "        data.append(features)\n",
    "\n",
    "    # return our data list as a NumPy array\n",
    "    return np.array(data)"
   ]
  },
  {
   "cell_type": "code",
   "execution_count": null,
   "metadata": {},
   "outputs": [],
   "source": []
  },
  {
   "cell_type": "code",
   "execution_count": null,
   "metadata": {},
   "outputs": [],
   "source": []
  }
 ],
 "metadata": {
  "kernelspec": {
   "display_name": "Python 3",
   "language": "python",
   "name": "python3"
  },
  "language_info": {
   "codemirror_mode": {
    "name": "ipython",
    "version": 3
   },
   "file_extension": ".py",
   "mimetype": "text/x-python",
   "name": "python",
   "nbconvert_exporter": "python",
   "pygments_lexer": "ipython3",
   "version": "3.6.8"
  }
 },
 "nbformat": 4,
 "nbformat_minor": 2
}
